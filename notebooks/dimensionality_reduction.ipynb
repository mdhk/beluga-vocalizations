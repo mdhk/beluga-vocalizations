{
 "cells": [
  {
   "cell_type": "code",
   "execution_count": 15,
   "id": "174b5467-3427-47f4-b73f-31fe9f08b3f8",
   "metadata": {},
   "outputs": [],
   "source": [
    "from beluga_vocalizations.paths import ROOT\n",
    "\n",
    "from sklearn.manifold import TSNE\n",
    "import pandas as pd"
   ]
  },
  {
   "cell_type": "code",
   "execution_count": 16,
   "id": "386957b7-dd24-4b32-8010-ff86eef555e2",
   "metadata": {},
   "outputs": [],
   "source": [
    "aves_frame_df = pd.read_csv(ROOT / 'results/AVES_frame_embeddings.csv', index_col='emb_idx')"
   ]
  },
  {
   "cell_type": "code",
   "execution_count": 17,
   "id": "9ecba240-0ea1-412c-b8e2-c2f166b0dd4c",
   "metadata": {},
   "outputs": [],
   "source": [
    "aves_frame_df_subset = aves_frame_df.iloc[:100]\n",
    "aves_frame_df_subset.to_csv(ROOT / 'results/AVES_frame_emb_subset.csv')"
   ]
  },
  {
   "cell_type": "code",
   "execution_count": 18,
   "id": "4c1c2eeb-2e24-42df-b0f8-a39f95022f89",
   "metadata": {},
   "outputs": [
    {
     "data": {
      "text/plain": [
       "187659"
      ]
     },
     "execution_count": 18,
     "metadata": {},
     "output_type": "execute_result"
    }
   ],
   "source": [
    "len(aves_frame_df)"
   ]
  },
  {
   "cell_type": "code",
   "execution_count": 10,
   "id": "bb959d2d-503d-486b-b74a-13e06a3c1be1",
   "metadata": {},
   "outputs": [],
   "source": [
    "emb_cols = [col for col in aves_frame_df_subset.columns if col.startswith('emb')]\n",
    "aves_frame_embs = aves_frame_df_subset[emb_cols].values"
   ]
  },
  {
   "cell_type": "code",
   "execution_count": 11,
   "id": "c4f6bb5d-c8d0-49b4-9750-ee8942a0e5c4",
   "metadata": {
    "editable": true,
    "slideshow": {
     "slide_type": ""
    },
    "tags": []
   },
   "outputs": [
    {
     "name": "stdout",
     "output_type": "stream",
     "text": [
      "[t-SNE] Computing 91 nearest neighbors...\n",
      "[t-SNE] Indexed 100 samples in 0.001s...\n",
      "[t-SNE] Computed neighbors for 100 samples in 0.008s...\n",
      "[t-SNE] Computed conditional probabilities for sample 100 / 100\n",
      "[t-SNE] Mean sigma: 7.297128\n",
      "[t-SNE] Computed conditional probabilities in 0.005s\n",
      "[t-SNE] Iteration 50: error = 72.3684082, gradient norm = 0.2994039 (50 iterations in 0.021s)\n",
      "[t-SNE] Iteration 100: error = 85.2400131, gradient norm = 0.2895430 (50 iterations in 0.017s)\n",
      "[t-SNE] Iteration 150: error = 91.3958130, gradient norm = 0.1942274 (50 iterations in 0.016s)\n",
      "[t-SNE] Iteration 200: error = 99.0869370, gradient norm = 0.3590517 (50 iterations in 0.016s)\n",
      "[t-SNE] Iteration 250: error = 105.5642090, gradient norm = 0.1899606 (50 iterations in 0.016s)\n",
      "[t-SNE] KL divergence after 250 iterations with early exaggeration: 105.564209\n",
      "[t-SNE] Iteration 300: error = 2.1055179, gradient norm = 0.0046993 (50 iterations in 0.016s)\n",
      "[t-SNE] Iteration 350: error = 1.8008380, gradient norm = 0.0039899 (50 iterations in 0.015s)\n",
      "[t-SNE] Iteration 400: error = 1.6471806, gradient norm = 0.0034954 (50 iterations in 0.015s)\n",
      "[t-SNE] Iteration 450: error = 1.5596277, gradient norm = 0.0031678 (50 iterations in 0.015s)\n",
      "[t-SNE] Iteration 500: error = 1.5005829, gradient norm = 0.0029762 (50 iterations in 0.015s)\n",
      "[t-SNE] Iteration 550: error = 1.4545022, gradient norm = 0.0028294 (50 iterations in 0.015s)\n",
      "[t-SNE] Iteration 600: error = 1.4169608, gradient norm = 0.0026902 (50 iterations in 0.016s)\n",
      "[t-SNE] Iteration 650: error = 1.3868130, gradient norm = 0.0025860 (50 iterations in 0.015s)\n",
      "[t-SNE] Iteration 700: error = 1.3625801, gradient norm = 0.0024581 (50 iterations in 0.015s)\n",
      "[t-SNE] Iteration 750: error = 1.3435745, gradient norm = 0.0023468 (50 iterations in 0.015s)\n",
      "[t-SNE] Iteration 800: error = 1.3272252, gradient norm = 0.0022963 (50 iterations in 0.015s)\n",
      "[t-SNE] Iteration 850: error = 1.3120685, gradient norm = 0.0022707 (50 iterations in 0.015s)\n",
      "[t-SNE] Iteration 900: error = 1.2976601, gradient norm = 0.0022445 (50 iterations in 0.015s)\n",
      "[t-SNE] Iteration 950: error = 1.2839088, gradient norm = 0.0022010 (50 iterations in 0.015s)\n",
      "[t-SNE] Iteration 1000: error = 1.2703867, gradient norm = 0.0021743 (50 iterations in 0.015s)\n",
      "[t-SNE] KL divergence after 1000 iterations: 1.270387\n"
     ]
    }
   ],
   "source": [
    "aves_tsne = TSNE(n_components=3, \n",
    "                 learning_rate=100, \n",
    "                 perplexity=30, \n",
    "                 verbose=2, \n",
    "                 angle=0.1, \n",
    "                 n_jobs=-1).fit_transform(aves_frame_embs)"
   ]
  },
  {
   "cell_type": "code",
   "execution_count": 13,
   "id": "c5aed1ec-ae95-40c5-823f-3ac18e009bf9",
   "metadata": {
    "editable": true,
    "slideshow": {
     "slide_type": ""
    },
    "tags": []
   },
   "outputs": [],
   "source": [
    "tsne_dict = {f'tsne_component_{i}': aves_tsne[:,i] for i in range(aves_tsne.shape[-1])}\n",
    "\n",
    "# gather tsne components & ids in a dataframe\n",
    "aves_tsne_df = pd.DataFrame.from_dict({\n",
    "    'emb_idx': aves_frame_df_subset.index,\n",
    "    'voc_idx': aves_frame_df_subset['voc_idx']\n",
    "} | tsne_dict).set_index('emb_idx')"
   ]
  },
  {
   "cell_type": "code",
   "execution_count": 14,
   "id": "23a8e2f5-ba96-4f91-8b0e-c278f67fd216",
   "metadata": {},
   "outputs": [],
   "source": [
    "aves_tsne_df.to_csv(ROOT / 'results/AVES_frame_subset_tsne.csv')"
   ]
  },
  {
   "cell_type": "code",
   "execution_count": null,
   "id": "4588b055-80ea-4899-a72c-3a2594bff8fb",
   "metadata": {
    "editable": true,
    "slideshow": {
     "slide_type": ""
    },
    "tags": []
   },
   "outputs": [],
   "source": []
  }
 ],
 "metadata": {
  "kernelspec": {
   "display_name": "beluga-env",
   "language": "python",
   "name": ".venv"
  },
  "language_info": {
   "codemirror_mode": {
    "name": "ipython",
    "version": 3
   },
   "file_extension": ".py",
   "mimetype": "text/x-python",
   "name": "python",
   "nbconvert_exporter": "python",
   "pygments_lexer": "ipython3",
   "version": "3.11.3"
  }
 },
 "nbformat": 4,
 "nbformat_minor": 5
}
